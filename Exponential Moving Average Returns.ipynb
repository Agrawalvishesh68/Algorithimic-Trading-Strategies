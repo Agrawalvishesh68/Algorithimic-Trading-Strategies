{
 "cells": [
  {
   "cell_type": "markdown",
   "id": "652c3ec5-0008-4362-a146-89d25c999d6d",
   "metadata": {},
   "source": [
    "### Exponential Long Run Moving Average"
   ]
  },
  {
   "cell_type": "code",
   "execution_count": 2,
   "id": "b4b94496-ac20-4de2-8313-3f67971d9c56",
   "metadata": {},
   "outputs": [],
   "source": [
    "import pandas as pd\n",
    "import numpy as np\n",
    "import matplotlib.pyplot as plt\n",
    "import yfinance as yf\n",
    "import datetime\n",
    "import plotly.express as px\n",
    "import warnings\n",
    "warnings.filterwarnings('ignore')"
   ]
  },
  {
   "cell_type": "code",
   "execution_count": 6,
   "id": "97bd5653-5661-44d1-9e1e-835a753ed179",
   "metadata": {},
   "outputs": [
    {
     "name": "stderr",
     "output_type": "stream",
     "text": [
      "[*********************100%***********************]  1 of 1 completed"
     ]
    },
    {
     "name": "stdout",
     "output_type": "stream",
     "text": [
      "<class 'pandas.core.frame.DataFrame'>\n",
      "(3162, 6)\n",
      "Price                            Open        High         Low       Close  \\\n",
      "Ticker                           NVDA        NVDA        NVDA        NVDA   \n",
      "Datetime                                                                    \n",
      "2025-06-09 13:30:00+00:00  143.199997  144.699997  143.050003  144.429993   \n",
      "2025-06-09 13:35:00+00:00  144.440002  144.589996  142.899994  143.125000   \n",
      "2025-06-09 13:40:00+00:00  143.130005  143.559998  143.039993  143.350006   \n",
      "2025-06-09 13:45:00+00:00  143.354996  143.880005  143.059998  143.651398   \n",
      "2025-06-09 13:50:00+00:00  143.649994  143.985001  143.520004  143.940002   \n",
      "\n",
      "Price                       Adj Close    Volume  \n",
      "Ticker                           NVDA      NVDA  \n",
      "Datetime                                         \n",
      "2025-06-09 13:30:00+00:00  144.429993  16418488  \n",
      "2025-06-09 13:35:00+00:00  143.125000   5853004  \n",
      "2025-06-09 13:40:00+00:00  143.350006   3550520  \n",
      "2025-06-09 13:45:00+00:00  143.651398   3441472  \n",
      "2025-06-09 13:50:00+00:00  143.940002   2395898  \n",
      "Price                            Open        High         Low       Close  \\\n",
      "Ticker                           NVDA        NVDA        NVDA        NVDA   \n",
      "Datetime                                                                    \n",
      "2025-08-06 19:35:00+00:00  179.794998  179.860001  179.695007  179.785004   \n",
      "2025-08-06 19:40:00+00:00  179.789993  179.839996  179.479996  179.679993   \n",
      "2025-08-06 19:45:00+00:00  179.684998  179.715393  179.550003  179.639999   \n",
      "2025-08-06 19:50:00+00:00  179.639999  179.690002  179.449997  179.591400   \n",
      "2025-08-06 19:55:00+00:00  179.600006  179.630005  179.320007  179.410004   \n",
      "\n",
      "Price                       Adj Close   Volume  \n",
      "Ticker                           NVDA     NVDA  \n",
      "Datetime                                        \n",
      "2025-08-06 19:35:00+00:00  179.785004  2596012  \n",
      "2025-08-06 19:40:00+00:00  179.679993  1795912  \n",
      "2025-08-06 19:45:00+00:00  179.639999   963061  \n",
      "2025-08-06 19:50:00+00:00  179.591400  1685216  \n",
      "2025-08-06 19:55:00+00:00  179.410004  3048729  \n"
     ]
    },
    {
     "name": "stderr",
     "output_type": "stream",
     "text": [
      "\n"
     ]
    }
   ],
   "source": [
    "# Create a variable called end1 for today. Use the datetime library.\n",
    "end1 = datetime.date(2025,8,7)\n",
    "# Create a variable start1 which is 50 days before end1\n",
    "start1 = end1 - pd.Timedelta(days = 59)\n",
    "# Use the yfinance library to download the data into a variable df for \"Nifty\" OHLCV data \n",
    "# between start1 and end1.\n",
    "# The data has to be at 5 minute intervals.\n",
    "# The download should be into a pandas DataFrame called df\n",
    "df = yf.download(\"NVDA\",start = start1 , end = end1, interval = '5m',auto_adjust = False)\n",
    "# Define the desired column order, now including 'Adj Close'\n",
    "desired_columns = ['Open', 'High', 'Low', 'Close', 'Adj Close', 'Volume']\n",
    "\n",
    "# Filter and reorder columns, handling cases where a column might be missing\n",
    "df = df[[col for col in desired_columns if col in df.columns]]\n",
    "\n",
    "# Check the data type, the dimensions, the first few and last few rows of the pandas DataFrame\n",
    "print(type(df))\n",
    "print(df.shape)\n",
    "print(df.head())\n",
    "print(df.tail())\n",
    "df1b = df.copy()"
   ]
  },
  {
   "cell_type": "code",
   "execution_count": 7,
   "id": "656a9734-5d2f-442d-9629-9e943e1f423b",
   "metadata": {},
   "outputs": [
    {
     "data": {
      "text/html": [
       "<div>\n",
       "<style scoped>\n",
       "    .dataframe tbody tr th:only-of-type {\n",
       "        vertical-align: middle;\n",
       "    }\n",
       "\n",
       "    .dataframe tbody tr th {\n",
       "        vertical-align: top;\n",
       "    }\n",
       "\n",
       "    .dataframe thead tr th {\n",
       "        text-align: left;\n",
       "    }\n",
       "\n",
       "    .dataframe thead tr:last-of-type th {\n",
       "        text-align: right;\n",
       "    }\n",
       "</style>\n",
       "<table border=\"1\" class=\"dataframe\">\n",
       "  <thead>\n",
       "    <tr>\n",
       "      <th>Price</th>\n",
       "      <th>Open</th>\n",
       "      <th>High</th>\n",
       "      <th>Low</th>\n",
       "      <th>Close</th>\n",
       "      <th>Adj Close</th>\n",
       "      <th>Volume</th>\n",
       "    </tr>\n",
       "    <tr>\n",
       "      <th>Ticker</th>\n",
       "      <th>NVDA</th>\n",
       "      <th>NVDA</th>\n",
       "      <th>NVDA</th>\n",
       "      <th>NVDA</th>\n",
       "      <th>NVDA</th>\n",
       "      <th>NVDA</th>\n",
       "    </tr>\n",
       "    <tr>\n",
       "      <th>Datetime</th>\n",
       "      <th></th>\n",
       "      <th></th>\n",
       "      <th></th>\n",
       "      <th></th>\n",
       "      <th></th>\n",
       "      <th></th>\n",
       "    </tr>\n",
       "  </thead>\n",
       "  <tbody>\n",
       "    <tr>\n",
       "      <th>2025-06-09 13:30:00+00:00</th>\n",
       "      <td>143.199997</td>\n",
       "      <td>144.699997</td>\n",
       "      <td>143.050003</td>\n",
       "      <td>144.429993</td>\n",
       "      <td>144.429993</td>\n",
       "      <td>16418488</td>\n",
       "    </tr>\n",
       "    <tr>\n",
       "      <th>2025-06-09 13:35:00+00:00</th>\n",
       "      <td>144.440002</td>\n",
       "      <td>144.589996</td>\n",
       "      <td>142.899994</td>\n",
       "      <td>143.125000</td>\n",
       "      <td>143.125000</td>\n",
       "      <td>5853004</td>\n",
       "    </tr>\n",
       "    <tr>\n",
       "      <th>2025-06-09 13:40:00+00:00</th>\n",
       "      <td>143.130005</td>\n",
       "      <td>143.559998</td>\n",
       "      <td>143.039993</td>\n",
       "      <td>143.350006</td>\n",
       "      <td>143.350006</td>\n",
       "      <td>3550520</td>\n",
       "    </tr>\n",
       "    <tr>\n",
       "      <th>2025-06-09 13:45:00+00:00</th>\n",
       "      <td>143.354996</td>\n",
       "      <td>143.880005</td>\n",
       "      <td>143.059998</td>\n",
       "      <td>143.651398</td>\n",
       "      <td>143.651398</td>\n",
       "      <td>3441472</td>\n",
       "    </tr>\n",
       "    <tr>\n",
       "      <th>2025-06-09 13:50:00+00:00</th>\n",
       "      <td>143.649994</td>\n",
       "      <td>143.985001</td>\n",
       "      <td>143.520004</td>\n",
       "      <td>143.940002</td>\n",
       "      <td>143.940002</td>\n",
       "      <td>2395898</td>\n",
       "    </tr>\n",
       "  </tbody>\n",
       "</table>\n",
       "</div>"
      ],
      "text/plain": [
       "Price                            Open        High         Low       Close  \\\n",
       "Ticker                           NVDA        NVDA        NVDA        NVDA   \n",
       "Datetime                                                                    \n",
       "2025-06-09 13:30:00+00:00  143.199997  144.699997  143.050003  144.429993   \n",
       "2025-06-09 13:35:00+00:00  144.440002  144.589996  142.899994  143.125000   \n",
       "2025-06-09 13:40:00+00:00  143.130005  143.559998  143.039993  143.350006   \n",
       "2025-06-09 13:45:00+00:00  143.354996  143.880005  143.059998  143.651398   \n",
       "2025-06-09 13:50:00+00:00  143.649994  143.985001  143.520004  143.940002   \n",
       "\n",
       "Price                       Adj Close    Volume  \n",
       "Ticker                           NVDA      NVDA  \n",
       "Datetime                                         \n",
       "2025-06-09 13:30:00+00:00  144.429993  16418488  \n",
       "2025-06-09 13:35:00+00:00  143.125000   5853004  \n",
       "2025-06-09 13:40:00+00:00  143.350006   3550520  \n",
       "2025-06-09 13:45:00+00:00  143.651398   3441472  \n",
       "2025-06-09 13:50:00+00:00  143.940002   2395898  "
      ]
     },
     "execution_count": 7,
     "metadata": {},
     "output_type": "execute_result"
    }
   ],
   "source": [
    "df1b.head()"
   ]
  },
  {
   "cell_type": "markdown",
   "id": "b3615104-9368-4fc1-9c87-04839d5d74eb",
   "metadata": {},
   "source": [
    "## Finding exponential moving average "
   ]
  },
  {
   "cell_type": "code",
   "execution_count": 9,
   "id": "d960f4da-18a0-4855-87b4-dc30fb68a78e",
   "metadata": {},
   "outputs": [
    {
     "name": "stdout",
     "output_type": "stream",
     "text": [
      "Price                            Open        High         Low       Close  \\\n",
      "Ticker                           NVDA        NVDA        NVDA        NVDA   \n",
      "Datetime                                                                    \n",
      "2025-06-09 13:30:00+00:00  143.199997  144.699997  143.050003  144.429993   \n",
      "2025-06-09 13:35:00+00:00  144.440002  144.589996  142.899994  143.125000   \n",
      "2025-06-09 13:40:00+00:00  143.130005  143.559998  143.039993  143.350006   \n",
      "2025-06-09 13:45:00+00:00  143.354996  143.880005  143.059998  143.651398   \n",
      "2025-06-09 13:50:00+00:00  143.649994  143.985001  143.520004  143.940002   \n",
      "\n",
      "Price                       Adj Close    Volume         ema  \n",
      "Ticker                           NVDA      NVDA              \n",
      "Datetime                                                     \n",
      "2025-06-09 13:30:00+00:00  144.429993  16418488  144.429993  \n",
      "2025-06-09 13:35:00+00:00  143.125000   5853004  144.229225  \n",
      "2025-06-09 13:40:00+00:00  143.350006   3550520  144.093960  \n",
      "2025-06-09 13:45:00+00:00  143.651398   3441472  144.025874  \n",
      "2025-06-09 13:50:00+00:00  143.940002   2395898  144.012663  \n",
      "Price                            Open        High         Low       Close  \\\n",
      "Ticker                           NVDA        NVDA        NVDA        NVDA   \n",
      "Datetime                                                                    \n",
      "2025-08-06 19:35:00+00:00  179.794998  179.860001  179.695007  179.785004   \n",
      "2025-08-06 19:40:00+00:00  179.789993  179.839996  179.479996  179.679993   \n",
      "2025-08-06 19:45:00+00:00  179.684998  179.715393  179.550003  179.639999   \n",
      "2025-08-06 19:50:00+00:00  179.639999  179.690002  179.449997  179.591400   \n",
      "2025-08-06 19:55:00+00:00  179.600006  179.630005  179.320007  179.410004   \n",
      "\n",
      "Price                       Adj Close   Volume         ema  \n",
      "Ticker                           NVDA     NVDA              \n",
      "Datetime                                                    \n",
      "2025-08-06 19:35:00+00:00  179.785004  2596012  179.451767  \n",
      "2025-08-06 19:40:00+00:00  179.679993  1795912  179.486879  \n",
      "2025-08-06 19:45:00+00:00  179.639999   963061  179.510436  \n",
      "2025-08-06 19:50:00+00:00  179.591400  1685216  179.522892  \n",
      "2025-08-06 19:55:00+00:00  179.410004  3048729  179.505524  \n"
     ]
    }
   ],
   "source": [
    "ema = 12\n",
    "df1b['ema'] = df1b[\"Close\"].ewm(span = ema,adjust = False).mean()\n",
    "print(df1b.head())\n",
    "print(df1b.tail())"
   ]
  },
  {
   "cell_type": "code",
   "execution_count": 11,
   "id": "2763496b-a67c-4759-911b-2de8897cf396",
   "metadata": {},
   "outputs": [
    {
     "data": {
      "text/plain": [
       "MultiIndex([(     'Open', 'NVDA'),\n",
       "            (     'High', 'NVDA'),\n",
       "            (      'Low', 'NVDA'),\n",
       "            (    'Close', 'NVDA'),\n",
       "            ('Adj Close', 'NVDA'),\n",
       "            (   'Volume', 'NVDA'),\n",
       "            (      'ema',     '')],\n",
       "           names=['Price', 'Ticker'])"
      ]
     },
     "execution_count": 11,
     "metadata": {},
     "output_type": "execute_result"
    }
   ],
   "source": [
    "df1b.columns"
   ]
  },
  {
   "cell_type": "markdown",
   "id": "562b51b2-4337-413a-8142-7d49876468e7",
   "metadata": {},
   "source": [
    "### Finding the position according the ema calculated "
   ]
  },
  {
   "cell_type": "code",
   "execution_count": 42,
   "id": "05f4f484-baac-44a7-b857-c1ceeea14515",
   "metadata": {},
   "outputs": [],
   "source": [
    "df1b[('position','')] = np.where((df1b[('Close',\"NVDA\")] > df1b[('ema',\"\")]), 1, 0)\n",
    "df1b[('position','')] = df1b[('position','')].shift(2)"
   ]
  },
  {
   "cell_type": "code",
   "execution_count": 16,
   "id": "b76ffb4f-c009-4fc9-89fd-01fa4fe6c123",
   "metadata": {},
   "outputs": [
    {
     "data": {
      "text/plain": [
       "position\n",
       "1.0    1799\n",
       "0.0    1361\n",
       "Name: count, dtype: int64"
      ]
     },
     "execution_count": 16,
     "metadata": {},
     "output_type": "execute_result"
    }
   ],
   "source": [
    "df1b['position'].value_counts()"
   ]
  },
  {
   "cell_type": "markdown",
   "id": "114e9452-50a5-465b-b927-53ab3f66550b",
   "metadata": {},
   "source": [
    "## Finding the Buy & Hold Strategy returns"
   ]
  },
  {
   "cell_type": "code",
   "execution_count": 43,
   "id": "fa699e7e-6f61-4fa7-93b6-4bd4efb760ee",
   "metadata": {},
   "outputs": [],
   "source": [
    "df1b['cc_returns'] = df1b[(\"Close\",\"NVDA\")].pct_change()"
   ]
  },
  {
   "cell_type": "markdown",
   "id": "5e2a3c09-64b9-4a92-9d35-4c68e5a5177c",
   "metadata": {},
   "source": [
    "## Finding returns from this strategy"
   ]
  },
  {
   "cell_type": "code",
   "execution_count": 44,
   "id": "8a5bc250-55b1-496f-a805-52fbea694d8c",
   "metadata": {},
   "outputs": [],
   "source": [
    "# Create a column called 'strategy_returns' which has the strategy returns over the backtesting period\n",
    "df1b['strategy_returns'] = df1b['cc_returns'] * df1b['position']"
   ]
  },
  {
   "cell_type": "code",
   "execution_count": 36,
   "id": "586655bd-f1e7-4f81-a9e8-5dfe24c2941c",
   "metadata": {},
   "outputs": [
    {
     "name": "stdout",
     "output_type": "stream",
     "text": [
      "Price                            Open        High         Low       Close  \\\n",
      "Ticker                           NVDA        NVDA        NVDA        NVDA   \n",
      "Datetime                                                                    \n",
      "2025-06-09 13:30:00+00:00  143.199997  144.699997  143.050003  144.429993   \n",
      "2025-06-09 13:35:00+00:00  144.440002  144.589996  142.899994  143.125000   \n",
      "2025-06-09 13:40:00+00:00  143.130005  143.559998  143.039993  143.350006   \n",
      "2025-06-09 13:45:00+00:00  143.354996  143.880005  143.059998  143.651398   \n",
      "2025-06-09 13:50:00+00:00  143.649994  143.985001  143.520004  143.940002   \n",
      "\n",
      "Price                       Adj Close    Volume         ema position  \\\n",
      "Ticker                           NVDA      NVDA                        \n",
      "Datetime                                                               \n",
      "2025-06-09 13:30:00+00:00  144.429993  16418488  144.429993      NaN   \n",
      "2025-06-09 13:35:00+00:00  143.125000   5853004  144.229225      NaN   \n",
      "2025-06-09 13:40:00+00:00  143.350006   3550520  144.093960      0.0   \n",
      "2025-06-09 13:45:00+00:00  143.651398   3441472  144.025874      0.0   \n",
      "2025-06-09 13:50:00+00:00  143.940002   2395898  144.012663      0.0   \n",
      "\n",
      "Price                     cc_returns strategy_returns  \n",
      "Ticker                                                 \n",
      "Datetime                                               \n",
      "2025-06-09 13:30:00+00:00        NaN              NaN  \n",
      "2025-06-09 13:35:00+00:00  -0.009035              NaN  \n",
      "2025-06-09 13:40:00+00:00   0.001572              0.0  \n",
      "2025-06-09 13:45:00+00:00   0.002102              0.0  \n",
      "2025-06-09 13:50:00+00:00   0.002009              0.0  \n",
      "Price                            Open        High         Low       Close  \\\n",
      "Ticker                           NVDA        NVDA        NVDA        NVDA   \n",
      "Datetime                                                                    \n",
      "2025-08-06 19:35:00+00:00  179.794998  179.860001  179.695007  179.785004   \n",
      "2025-08-06 19:40:00+00:00  179.789993  179.839996  179.479996  179.679993   \n",
      "2025-08-06 19:45:00+00:00  179.684998  179.715393  179.550003  179.639999   \n",
      "2025-08-06 19:50:00+00:00  179.639999  179.690002  179.449997  179.591400   \n",
      "2025-08-06 19:55:00+00:00  179.600006  179.630005  179.320007  179.410004   \n",
      "\n",
      "Price                       Adj Close   Volume         ema position  \\\n",
      "Ticker                           NVDA     NVDA                        \n",
      "Datetime                                                              \n",
      "2025-08-06 19:35:00+00:00  179.785004  2596012  179.451767      1.0   \n",
      "2025-08-06 19:40:00+00:00  179.679993  1795912  179.486879      1.0   \n",
      "2025-08-06 19:45:00+00:00  179.639999   963061  179.510436      1.0   \n",
      "2025-08-06 19:50:00+00:00  179.591400  1685216  179.522892      1.0   \n",
      "2025-08-06 19:55:00+00:00  179.410004  3048729  179.505524      1.0   \n",
      "\n",
      "Price                     cc_returns strategy_returns  \n",
      "Ticker                                                 \n",
      "Datetime                                               \n",
      "2025-08-06 19:35:00+00:00  -0.000111        -0.000111  \n",
      "2025-08-06 19:40:00+00:00  -0.000584        -0.000584  \n",
      "2025-08-06 19:45:00+00:00  -0.000223        -0.000223  \n",
      "2025-08-06 19:50:00+00:00  -0.000271        -0.000271  \n",
      "2025-08-06 19:55:00+00:00  -0.001010        -0.001010  \n"
     ]
    }
   ],
   "source": [
    "print(df1b.head())\n",
    "print(df1b.tail())"
   ]
  },
  {
   "cell_type": "code",
   "execution_count": 45,
   "id": "aa5a5e5b-e006-4c13-a0b0-0f08f569a40e",
   "metadata": {},
   "outputs": [
    {
     "name": "stdout",
     "output_type": "stream",
     "text": [
      "Buy and hold returns:  0.24\n",
      "Strategy returns:  0.21\n"
     ]
    }
   ],
   "source": [
    "df1b['strategy_returns'] = 1 + df1b['strategy_returns']\n",
    "df1b['cc_returns'] = 1 + df1b['cc_returns']\n",
    "print('Buy and hold returns: ', np.round(df1b['cc_returns'].cumprod()[-1]-1, 2))\n",
    "print('Strategy returns: ', np.round(df1b['strategy_returns'].cumprod()[-1]-1, 2))"
   ]
  },
  {
   "cell_type": "code",
   "execution_count": 46,
   "id": "9652bcfd-d5dd-4ab6-9764-70dbb420ee4a",
   "metadata": {},
   "outputs": [
    {
     "data": {
      "image/png": "[encoded data removed]",
      "text/plain": [
       "<Figure size 900x500 with 1 Axes>"
      ]
     },
     "metadata": {},
     "output_type": "display_data"
    }
   ],
   "source": [
    "# Plotting the returns for a buy-and-hold approach and the strategy we just created\n",
    "ax = df1b[['cc_returns', 'strategy_returns']].cumprod().plot(grid=True, figsize=(9, 5))\n",
    "ax.figure.savefig(\"Exponential_Returns.png\")"
   ]
  }
 ],
 "metadata": {
  "kernelspec": {
   "display_name": "Python 3.9",
   "language": "python",
   "name": "python39"
  },
  "language_info": {
   "codemirror_mode": {
    "name": "ipython",
    "version": 3
   },
   "file_extension": ".py",
   "mimetype": "text/x-python",
   "name": "python",
   "nbconvert_exporter": "python",
   "pygments_lexer": "ipython3",
   "version": "3.9.5"
  }
 },
 "nbformat": 4,
 "nbformat_minor": 5
}
